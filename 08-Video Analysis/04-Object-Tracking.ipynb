{
 "cells": [
  {
   "cell_type": "markdown",
   "metadata": {},
   "source": [
    "# Tracker Class in OpenCV\n",
    "\n",
    "1. BOOSTING\n",
    "2. MIL \n",
    "3. KCF \n",
    "4. CRST\n",
    "4. TLD \n",
    " * Tends to recover from occulusions\n",
    "5. MEDIANFLOW \n",
    " * Good for predictable slow motion\n",
    "6. GOTURN\n",
    " * Deep Learning based\n",
    " * Most Accurate \n",
    "7. MOSSE\n",
    " * Fastest"
   ]
  },
  {
   "cell_type": "markdown",
   "metadata": {},
   "source": [
    "## 1- importing Libraries"
   ]
  },
  {
   "cell_type": "code",
   "execution_count": 1,
   "metadata": {},
   "outputs": [],
   "source": [
    "import os\n",
    "import cv2\n",
    "import matplotlib.pyplot as plt"
   ]
  },
  {
   "cell_type": "markdown",
   "metadata": {},
   "source": [
    "## 2- Addressing Video"
   ]
  },
  {
   "cell_type": "code",
   "execution_count": 2,
   "metadata": {},
   "outputs": [],
   "source": [
    "video_input_file_name = \"videos/race_car.mp4\""
   ]
  },
  {
   "cell_type": "markdown",
   "metadata": {},
   "source": [
    "## 3- Auxiliary Functions"
   ]
  },
  {
   "cell_type": "code",
   "execution_count": 3,
   "metadata": {},
   "outputs": [],
   "source": [
    "\n",
    "def drawRectangle(frame, bbox):\n",
    "    p1 = (int(bbox[0]), int(bbox[1]))\n",
    "    p2 = (int(bbox[0] + bbox[2]), int(bbox[1] + bbox[3]))\n",
    "    cv2.rectangle(frame, p1, p2, (255,0,0), 2, 1)\n",
    "\n",
    "def displayRectangle(frame, bbox):\n",
    "    plt.figure(figsize=(20,10))\n",
    "    frameCopy = frame.copy()\n",
    "    drawRectangle(frameCopy, bbox)\n",
    "    frameCopy = cv2.cvtColor(frameCopy, cv2.COLOR_RGB2BGR)\n",
    "    plt.imshow(frameCopy); plt.axis('off')    "
   ]
  },
  {
   "cell_type": "markdown",
   "metadata": {},
   "source": [
    "## 4- Creating The Tracker Instance"
   ]
  },
  {
   "cell_type": "code",
   "execution_count": null,
   "metadata": {},
   "outputs": [],
   "source": [
    "# cv2.TrackerGOTURN_create(\"path_to_goturn.prototxt\", \"path_to_goturn.caffemodel\")"
   ]
  },
  {
   "cell_type": "code",
   "execution_count": 5,
   "metadata": {},
   "outputs": [],
   "source": [
    "# Set up tracker\n",
    "tracker_types = ['BOOSTING', 'MIL','KCF', 'CSRT', 'TLD', 'MEDIANFLOW', 'GOTURN','MOSSE']\n",
    "\n",
    "# Change the index to change the tracker type\n",
    "tracker_type = tracker_types[3]\n",
    "\n",
    "if tracker_type == 'BOOSTING':\n",
    "    tracker = cv2.legacy_TrackerBoosting.create()\n",
    "elif tracker_type == 'MIL':\n",
    "    tracker = cv2.TrackerMIL_create()\n",
    "elif tracker_type == 'KCF':\n",
    "    tracker = cv2.TrackerKCF_create()\n",
    "elif tracker_type == 'CSRT':\n",
    "    tracker = cv2.legacy_TrackerCSRT.create()\n",
    "elif tracker_type == 'TLD':\n",
    "    tracker = cv2.legacy_TrackerTLD.create()\n",
    "elif tracker_type == 'MEDIANFLOW':\n",
    "    tracker = cv2.legacy_TrackerMedianFlow.create()\n",
    "elif tracker_type == 'GOTURN':\n",
    "    tracker = cv2.TrackerGOTURN_create()   \n",
    "else:\n",
    "    tracker = cv2.legacy_TrackerMOSSE.create()"
   ]
  },
  {
   "cell_type": "markdown",
   "metadata": {},
   "source": [
    "## 5- Read Input Video & Setup Putput Video"
   ]
  },
  {
   "cell_type": "code",
   "execution_count": 6,
   "metadata": {},
   "outputs": [
    {
     "name": "stdout",
     "output_type": "stream",
     "text": [
      "Could not open video\n"
     ]
    },
    {
     "ename": "NameError",
     "evalue": "name 'width' is not defined",
     "output_type": "error",
     "traceback": [
      "\u001b[1;31m---------------------------------------------------------------------------\u001b[0m",
      "\u001b[1;31mNameError\u001b[0m                                 Traceback (most recent call last)",
      "Cell \u001b[1;32mIn[6], line 13\u001b[0m\n\u001b[0;32m     10\u001b[0m     height \u001b[38;5;241m=\u001b[39m \u001b[38;5;28mint\u001b[39m(video\u001b[38;5;241m.\u001b[39mget(cv2\u001b[38;5;241m.\u001b[39mCAP_PROP_FRAME_HEIGHT))\n\u001b[0;32m     12\u001b[0m video_output_file_name \u001b[38;5;241m=\u001b[39m \u001b[38;5;124m'\u001b[39m\u001b[38;5;124mrace_car-\u001b[39m\u001b[38;5;124m'\u001b[39m \u001b[38;5;241m+\u001b[39m tracker_type \u001b[38;5;241m+\u001b[39m \u001b[38;5;124m'\u001b[39m\u001b[38;5;124m.mp4\u001b[39m\u001b[38;5;124m'\u001b[39m\n\u001b[1;32m---> 13\u001b[0m video_out \u001b[38;5;241m=\u001b[39m cv2\u001b[38;5;241m.\u001b[39mVideoWriter(video_output_file_name,cv2\u001b[38;5;241m.\u001b[39mVideoWriter_fourcc(\u001b[38;5;241m*\u001b[39m\u001b[38;5;124m'\u001b[39m\u001b[38;5;124mavc1\u001b[39m\u001b[38;5;124m'\u001b[39m), \u001b[38;5;241m10\u001b[39m, (\u001b[43mwidth\u001b[49m, height))\n",
      "\u001b[1;31mNameError\u001b[0m: name 'width' is not defined"
     ]
    }
   ],
   "source": [
    "# Read video\n",
    "video = cv2.VideoCapture(video_input_file_name)\n",
    "ok, frame = video.read()\n",
    "\n",
    "# Exit if video not opened\n",
    "if not video.isOpened():\n",
    "    print(\"Could not open video\")\n",
    "else : \n",
    "    width = int(video.get(cv2.CAP_PROP_FRAME_WIDTH))\n",
    "    height = int(video.get(cv2.CAP_PROP_FRAME_HEIGHT))\n",
    "    \n",
    "video_output_file_name = 'race_car-' + tracker_type + '.mp4'\n",
    "video_out = cv2.VideoWriter(video_output_file_name,cv2.VideoWriter_fourcc(*'avc1'), 10, (width, height))"
   ]
  },
  {
   "cell_type": "markdown",
   "metadata": {},
   "source": [
    "## 6- Define Bounding Box"
   ]
  },
  {
   "cell_type": "code",
   "execution_count": null,
   "metadata": {},
   "outputs": [],
   "source": [
    "# Define a bounding box\n",
    "bbox = (1300, 405, 160, 120)\n",
    "\n",
    "#bbox = cv2.selectROI(frame, False)\n",
    "#print(bbox)\n",
    "displayRectangle(frame,bbox)"
   ]
  },
  {
   "cell_type": "markdown",
   "metadata": {},
   "source": [
    "## 7- Intilialize Tracker \n",
    "\n",
    "1. One frame\n",
    "2. A bounding box "
   ]
  },
  {
   "cell_type": "code",
   "execution_count": null,
   "metadata": {},
   "outputs": [],
   "source": [
    "# Initialize tracker with first frame and bounding box\n",
    "ok = tracker.init(frame, bbox)"
   ]
  },
  {
   "cell_type": "markdown",
   "metadata": {},
   "source": [
    "## 8- Read frame and Track Object"
   ]
  },
  {
   "cell_type": "code",
   "execution_count": null,
   "metadata": {},
   "outputs": [],
   "source": [
    "while True:\n",
    "    ok, frame = video.read()\n",
    "    if not ok:\n",
    "        break \n",
    "    \n",
    "    # Start timer\n",
    "    tm = cv2.TickMeter()\n",
    "\n",
    "    tm.start()\n",
    "    ok, bbox = tracker.update(frame)\n",
    "    tm.stop()\n",
    "    # Draw bounding box\n",
    "    if ok:\n",
    "        drawRectangle(frame, bbox)\n",
    "    else :\n",
    "        cv2.putText(frame, \"Tracking failure detected\", (80,140), cv2.FONT_HERSHEY_SIMPLEX, 1, (0, 0, 255), 3)\n",
    "\n",
    "    # Display Info\n",
    "    cv2.putText(frame, tracker_type + \" Tracker\", (80,60), cv2.FONT_HERSHEY_SIMPLEX, 1, (50, 170, 50), 3)\n",
    "    cv2.putText(frame, \"FPS : \" + str(tm.getFPS()), (80,100), cv2.FONT_HERSHEY_SIMPLEX, 1, (50, 170, 50), 3)\n",
    "\n",
    "\n",
    "    # Write frame to video\n",
    "    video_out.write(frame)\n",
    "    \n",
    "video.release()\n",
    "video_out.release()"
   ]
  },
  {
   "cell_type": "code",
   "execution_count": null,
   "metadata": {},
   "outputs": [],
   "source": [
    "from IPython.display import HTML\n",
    "HTML(\"\"\"\n",
    "<video width=1024 controls>\n",
    "  <source src=\"race_car-GOTURN.mp4\" type=\"video/mp4\">\n",
    "</video>\n",
    "\"\"\")"
   ]
  },
  {
   "cell_type": "code",
   "execution_count": null,
   "metadata": {},
   "outputs": [],
   "source": []
  }
 ],
 "metadata": {
  "kernelspec": {
   "display_name": "myvenv",
   "language": "python",
   "name": "python3"
  },
  "language_info": {
   "codemirror_mode": {
    "name": "ipython",
    "version": 3
   },
   "file_extension": ".py",
   "mimetype": "text/x-python",
   "name": "python",
   "nbconvert_exporter": "python",
   "pygments_lexer": "ipython3",
   "version": "3.12.1"
  }
 },
 "nbformat": 4,
 "nbformat_minor": 2
}
