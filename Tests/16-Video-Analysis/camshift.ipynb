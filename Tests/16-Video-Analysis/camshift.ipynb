{
 "cells": [
  {
   "cell_type": "markdown",
   "metadata": {},
   "source": [
    "## 1- Importing Libraries & Modules"
   ]
  },
  {
   "cell_type": "code",
   "execution_count": 4,
   "metadata": {},
   "outputs": [],
   "source": [
    "import numpy as np\n",
    "import cv2\n",
    "\n",
    "# local module\n",
    "import video\n",
    "from video import presets"
   ]
  },
  {
   "cell_type": "markdown",
   "metadata": {},
   "source": [
    "## 2- Defining a class for the application"
   ]
  },
  {
   "cell_type": "code",
   "execution_count": 5,
   "metadata": {},
   "outputs": [],
   "source": [
    "# This class will manage the video capture and object tracking\n",
    "class App(object):\n",
    "    \n",
    "    # Constructor function to initialize video capture\n",
    "    def __init__(self, video_src):\n",
    "        self.cam = video.create_capture(video_src)\n",
    "        ret, self.frame = self.cam.read()\n",
    "        cv2.namedWindow('camshift')\n",
    "\n",
    "        # Initializing variables for the selection and tracking state\n",
    "        self.selection = None\n",
    "        self.drag_start = None\n",
    "        self.tracking_state = 0\n",
    "        self.show_backproj = False"
   ]
  },
  {
   "cell_type": "markdown",
   "metadata": {},
   "source": [
    "## 3- Mouse Handler"
   ]
  },
  {
   "cell_type": "code",
   "execution_count": 6,
   "metadata": {},
   "outputs": [],
   "source": [
    "# It allows the user to click and drag to select a region of interest (ROI) for tracking\n",
    "def onmouse(self, event, x, y, flags, param):\n",
    "    x, y = np.int16([x, y])  # Converting coordinates to integer type\n",
    "    if event == cv2.EVENT_LBUTTONDOWN:\n",
    "        self.drag_start = (x, y)\n",
    "        self.tracking_state = 0\n",
    "\n",
    "    if self.drag_start: \n",
    "        if flags & cv2.EVENT_FLAG_LBUTTON:\n",
    "            h, w = self.frame.shape[:2]\n",
    "            xo, yo = self.drag_start\n",
    "            x0, y0 = np.maximum(0, np.minimum([xo, yo], [x, y]))\n",
    "            x1, y1 = np.minimum([w, h], np.maximum([xo, yo], [x, y]))\n",
    "            self.selection = None\n",
    "\n",
    "            # Check if the selected region is valid (non-zero width and height)\n",
    "            if x1-x0 > 0 and y1-y0 > 0:\n",
    "                self.selection = (x0, y0, x1, y1)\n",
    "            else:\n",
    "                self.drag_start = None\n",
    "\n",
    "        # If a valid region is selected, set the tracking state to 1\n",
    "            if self.selection is not None:\n",
    "                self.tracking_state = 1"
   ]
  },
  {
   "cell_type": "markdown",
   "metadata": {},
   "source": [
    "## 4- Display Histogram of The ROI"
   ]
  },
  {
   "cell_type": "code",
   "execution_count": 7,
   "metadata": {},
   "outputs": [],
   "source": [
    "def show_hist(self):\n",
    "        bin_count = self.hist.shape[0]\n",
    "        bin_w = 24\n",
    "        img = np.zeros((256, bin_count*bin_w, 3), np.uint8)\n",
    "\n",
    "        # Drawing rectangles to represent the histogram of the ROI\n",
    "        for i in range(bin_count):\n",
    "            h = int(self.hist[i])\n",
    "            cv2.rectangle(img, (i*bin_w, 256), ((i+1)*bin_w, 256-h), (int(180.0*i/bin_count), 255, 255), -1)\n",
    "        img = cv2.cvtColor(img, cv2.COLOR_HSV2BGR)\n",
    "        cv2.imshow('hist', img)"
   ]
  },
  {
   "cell_type": "markdown",
   "metadata": {},
   "source": [
    "## 5- Main loop of the application\n",
    "- where the object tracking takes place"
   ]
  },
  {
   "cell_type": "code",
   "execution_count": null,
   "metadata": {},
   "outputs": [],
   "source": [
    "def run(self):\n",
    "        while True:\n",
    "            ret, self.frame = self.cam.read()\n",
    "            if ret == False:\n",
    "                break\n",
    "\n",
    "            vis = self.frame.copy()\n",
    "\n",
    "            # If the user is dragging to select an area, draw a rectangle around the selection\n",
    "            if self.selection:\n",
    "                x0, y0, x1, y1 = self.selection\n",
    "                cv2.rectangle(vis, (x0, y0), (x1, y1), (0, 255, 0), 2)\n",
    "\n",
    "            # Handling the tracking process\n",
    "            if self.tracking_state == 1:\n",
    "                # Initialize tracking window and compute histogram of the selected region\n",
    "                hsv = cv2.cvtColor(self.frame, cv2.COLOR_BGR2HSV)\n",
    "                mask = cv2.inRange(hsv, np.array((0., 60.,32.)), np.array((180.,255.,255.)))\n",
    "                self.hist = cv2.calcHist([hsv], [0], mask, [16], [0, 180])\n",
    "                cv2.normalize(self.hist, self.hist, 0, 255, cv2.NORM_MINMAX)\n",
    "\n",
    "                # Set the tracking state to 2, indicating tracking is ongoing\n",
    "                self.tracking_state = 2\n",
    "\n",
    "            elif self.tracking_state == 2:\n",
    "                # Perform back-projection to update the tracking window\n",
    "                hsv = cv2.cvtColor(self.frame, cv2.COLOR_BGR2HSV)\n",
    "                mask = cv2.inRange(hsv, np.array((0., 60.,32.)), np.array((180.,255.,255.)))\n",
    "                prob = cv2.calcBackProject([hsv], [0], self.hist, [0, 180], 1)\n",
    "                prob &= mask\n",
    "                term_crit = (cv2.TERM_CRITERIA_EPS | cv2.TERM_CRITERIA_COUNT, 10, 1)\n",
    "\n",
    "                # Apply the CamShift algorithm to find the new position of the object\n",
    "                track_box, self.track_window = cv2.CamShift(prob, self.track_window, term_crit)\n",
    "\n",
    "                # Draw the tracking result on the video\n",
    "                if self.show_backproj:\n",
    "                    vis[:] = prob[..., np.newaxis]\n",
    "                try:\n",
    "                    cv2.ellipse(vis, track_box, (0, 0, 255), 2)\n",
    "                except:\n",
    "                    pass\n",
    "\n",
    "            # Show the result in the video window\n",
    "            cv2.imshow('camshift', vis)\n",
    "\n",
    "            ch = cv2.waitKey(5)\n",
    "            if ch == 27:\n",
    "                break\n",
    "            \n",
    "# Starting the application and setting up the mouse callback function\n",
    "if __name__ == '__main__':\n",
    "    import sys\n",
    "    try: video_src = sys.argv[1]\n",
    "    except: video_src = 0\n",
    "    print(__doc__)\n",
    "    App(video_src).run()"
   ]
  }
 ],
 "metadata": {
  "kernelspec": {
   "display_name": "myvenv",
   "language": "python",
   "name": "python3"
  },
  "language_info": {
   "codemirror_mode": {
    "name": "ipython",
    "version": 3
   },
   "file_extension": ".py",
   "mimetype": "text/x-python",
   "name": "python",
   "nbconvert_exporter": "python",
   "pygments_lexer": "ipython3",
   "version": "3.12.1"
  }
 },
 "nbformat": 4,
 "nbformat_minor": 2
}
