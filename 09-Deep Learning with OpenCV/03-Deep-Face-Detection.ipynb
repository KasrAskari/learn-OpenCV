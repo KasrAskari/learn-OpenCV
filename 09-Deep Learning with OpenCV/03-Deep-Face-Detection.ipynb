{
 "cells": [
  {
   "cell_type": "markdown",
   "metadata": {},
   "source": [
    "## 1- Importing Libraries"
   ]
  },
  {
   "cell_type": "code",
   "execution_count": 12,
   "metadata": {},
   "outputs": [],
   "source": [
    "import cv2\n",
    "import numpy as np\n",
    "import matplotlib.pyplot as plt"
   ]
  },
  {
   "cell_type": "markdown",
   "metadata": {},
   "source": [
    "## 2- Initialize FaceDetectorYN"
   ]
  },
  {
   "cell_type": "code",
   "execution_count": null,
   "metadata": {},
   "outputs": [],
   "source": [
    "detector = cv2.FaceDetectorYN.create(\n",
    "    \"models/face/face_detection_yunet_2022mar.onnx\",\n",
    "    \"\",\n",
    "    (320, 320),\n",
    "    0.9,\n",
    "    0.3,\n",
    "    5000\n",
    ")\n",
    "\n",
    "image = cv2.imread(\"images/akhavan.jpg\")\n",
    "height, width, _ = image.shape\n",
    "\n",
    "# Set input size before inference\n",
    "detector.setInputSize((width, height))\n",
    "\n",
    "result = detector.detect(image)"
   ]
  },
  {
   "cell_type": "markdown",
   "metadata": {},
   "source": [
    "## 3- Plotting Model"
   ]
  },
  {
   "cell_type": "code",
   "execution_count": null,
   "metadata": {},
   "outputs": [],
   "source": [
    "thickness=2\n",
    "if result[1] is not None:\n",
    "    for idx, face in enumerate(result[1]):\n",
    "        coords = face[:-1].astype(np.int32)\n",
    "        cv2.rectangle(image, (coords[0], coords[1]), (coords[0]+coords[2], coords[1]+coords[3]), (0, 255, 0), thickness)\n",
    "        cv2.circle(image, (coords[4], coords[5]), 2, (255, 0, 0), thickness)\n",
    "        cv2.circle(image, (coords[6], coords[7]), 2, (0, 0, 255), thickness)\n",
    "        cv2.circle(image, (coords[8], coords[9]), 2, (0, 255, 0), thickness)\n",
    "        cv2.circle(image, (coords[10], coords[11]), 2, (255, 0, 255), thickness)\n",
    "        cv2.circle(image, (coords[12], coords[13]), 2, (0, 255, 255), thickness)\n",
    "\n",
    "plt.imshow(image[...,::-1])"
   ]
  },
  {
   "cell_type": "markdown",
   "metadata": {},
   "source": [
    "## 4- Testing on Webcam"
   ]
  },
  {
   "cell_type": "code",
   "execution_count": null,
   "metadata": {},
   "outputs": [],
   "source": [
    "detector = cv2.FaceDetectorYN.create(\n",
    "    \"model/face/face_detection_yunet_2022mar.onnx\",\n",
    "    \"\",\n",
    "    (320, 320),\n",
    "    0.9,\n",
    "    0.3,\n",
    "    5000\n",
    ")\n",
    "\n",
    "\n",
    "cap = cv2.VideoCapture(0)\n",
    "width = int(cap.get(3))\n",
    "height = int(cap.get(4))\n",
    "detector.setInputSize((width, height))\n",
    "\n",
    "\n",
    "while True:\n",
    "    ret, frame = cap.read()\n",
    "    frame = cv2.flip(frame, 1)\n",
    "    result = detector.detect(frame)\n",
    "    thickness=2\n",
    "    if result[1] is not None:\n",
    "        for idx, face in enumerate(result[1]):\n",
    "            coords = face[:-1].astype(np.int32)\n",
    "            cv2.rectangle(frame, (coords[0], coords[1]), (coords[0]+coords[2], coords[1]+coords[3]), (0, 255, 0), thickness)\n",
    "            cv2.circle(frame, (coords[4], coords[5]), 2, (255, 0, 0), thickness)\n",
    "            cv2.circle(frame, (coords[6], coords[7]), 2, (0, 0, 255), thickness)\n",
    "            cv2.circle(frame, (coords[8], coords[9]), 2, (0, 255, 0), thickness)\n",
    "            cv2.circle(frame, (coords[10], coords[11]), 2, (255, 0, 255), thickness)\n",
    "            cv2.circle(frame, (coords[12], coords[13]), 2, (0, 255, 255), thickness)\n",
    "\n",
    "    cv2.imshow('Webcam', frame)\n",
    "    if cv2.waitKey(1) & 0xFF == 27:\n",
    "        break\n",
    "        \n",
    "# Release camera and close windows\n",
    "cap.release()\n",
    "cv2.destroyAllWindows()      "
   ]
  },
  {
   "cell_type": "markdown",
   "metadata": {},
   "source": [
    "## 5- Testing on Largest-Wold-Selfie"
   ]
  },
  {
   "cell_type": "code",
   "execution_count": null,
   "metadata": {},
   "outputs": [],
   "source": [
    "detector = cv2.FaceDetectorYN.create(\n",
    "    \"models/face/face_detection_yunet_2022mar.onnx\",\n",
    "    \"\",\n",
    "    (320, 320),\n",
    "    0.3,\n",
    "    0.2,\n",
    "    5000\n",
    ")\n",
    "\n",
    "image = cv2.imread(\"images/largest-selfie.jpg\")\n",
    "height, width, _ = image.shape\n",
    "\n",
    "# Set input size before inference\n",
    "detector.setInputSize((width, height))\n",
    "\n",
    "result = detector.detect(image)\n",
    "print(\"number of detected faces:\", len(result[1]))\n",
    "\n",
    "thickness=2\n",
    "if result[1] is not None:\n",
    "    for idx, face in enumerate(result[1]):\n",
    "        coords = face[:-1].astype(np.int32)\n",
    "        cv2.rectangle(image, (coords[0], coords[1]), (coords[0]+coords[2], coords[1]+coords[3]), (0, 255, 0), thickness)\n",
    "        cv2.circle(image, (coords[4], coords[5]), 2, (255, 0, 0), thickness)\n",
    "        cv2.circle(image, (coords[6], coords[7]), 2, (0, 0, 255), thickness)\n",
    "        cv2.circle(image, (coords[8], coords[9]), 2, (0, 255, 0), thickness)\n",
    "        cv2.circle(image, (coords[10], coords[11]), 2, (255, 0, 255), thickness)\n",
    "        cv2.circle(image, (coords[12], coords[13]), 2, (0, 255, 255), thickness)\n",
    "\n",
    "plt.figure(figsize=[30,15])\n",
    "plt.imshow(image[...,::-1]);"
   ]
  },
  {
   "cell_type": "code",
   "execution_count": null,
   "metadata": {},
   "outputs": [],
   "source": []
  }
 ],
 "metadata": {
  "kernelspec": {
   "display_name": "myvenv",
   "language": "python",
   "name": "python3"
  },
  "language_info": {
   "codemirror_mode": {
    "name": "ipython",
    "version": 3
   },
   "file_extension": ".py",
   "mimetype": "text/x-python",
   "name": "python",
   "nbconvert_exporter": "python",
   "pygments_lexer": "ipython3",
   "version": "3.12.1"
  }
 },
 "nbformat": 4,
 "nbformat_minor": 2
}
