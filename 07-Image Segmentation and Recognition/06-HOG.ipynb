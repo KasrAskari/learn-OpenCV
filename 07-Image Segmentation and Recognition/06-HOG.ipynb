{
 "cells": [
  {
   "cell_type": "markdown",
   "metadata": {},
   "source": [
    "## 1- Importing Libraries"
   ]
  },
  {
   "cell_type": "code",
   "execution_count": 1,
   "metadata": {},
   "outputs": [],
   "source": [
    "import cv2\n",
    "import numpy as np\n",
    "import matplotlib.pyplot as plt"
   ]
  },
  {
   "cell_type": "markdown",
   "metadata": {},
   "source": [
    "## 2- Loading Dataset"
   ]
  },
  {
   "cell_type": "code",
   "execution_count": 2,
   "metadata": {},
   "outputs": [
    {
     "name": "stdout",
     "output_type": "stream",
     "text": [
      "(5000, 20, 20)\n",
      "(5000,)\n"
     ]
    }
   ],
   "source": [
    "def split2d(img, cell_size, flatten=True):\n",
    "    h, w = img.shape[:2]\n",
    "    sx, sy = cell_size\n",
    "    cells = [np.hsplit(row, w//sx) for row in np.vsplit(img, h//sy)]\n",
    "    cells = np.array(cells)\n",
    "    if flatten:\n",
    "        cells = cells.reshape(-1, sy, sx)\n",
    "    return cells\n",
    "\n",
    "def load_digits(file_name):\n",
    "    digits_img = cv2.imread(file_name, 0)\n",
    "    digits = split2d(digits_img, (20, 20))\n",
    "    labels = np.repeat(np.arange(10), len(digits)/10)\n",
    "    return digits, labels\n",
    "\n",
    "digits, labels = load_digits('dataset/digits.png')\n",
    "print(digits.shape)\n",
    "print(labels.shape)"
   ]
  },
  {
   "cell_type": "markdown",
   "metadata": {},
   "source": [
    "## 3- Shuffle Dataset"
   ]
  },
  {
   "cell_type": "code",
   "execution_count": 3,
   "metadata": {},
   "outputs": [],
   "source": [
    "rand = np.random.RandomState(10)\n",
    "shuffle = rand.permutation(len(digits))\n",
    "\n",
    "digits, labels = digits[shuffle], labels[shuffle]"
   ]
  },
  {
   "cell_type": "markdown",
   "metadata": {},
   "source": [
    "## 4- Create a HOG object for feature extraction"
   ]
  },
  {
   "cell_type": "code",
   "execution_count": 4,
   "metadata": {},
   "outputs": [],
   "source": [
    "winSize = (20,20)\n",
    "blockSize = (8,8)\n",
    "blockStride = (4,4)\n",
    "cellSize = (8,8)\n",
    "nbins = 9\n",
    "derivAperture = 1\n",
    "winSigma = -1.\n",
    "histogramNormType = 0\n",
    "L2HysThreshold = 0.2\n",
    "gammaCorrection = 1\n",
    "nlevels = 64\n",
    "signedGradient = True\n",
    "\n",
    "hog = cv2.HOGDescriptor(winSize,blockSize,blockStride,cellSize,nbins,derivAperture,winSigma,histogramNormType,L2HysThreshold,gammaCorrection,nlevels, signedGradient)"
   ]
  },
  {
   "cell_type": "markdown",
   "metadata": {},
   "source": [
    "## 5- Image feature extraction with HOG"
   ]
  },
  {
   "cell_type": "code",
   "execution_count": 5,
   "metadata": {},
   "outputs": [
    {
     "data": {
      "text/plain": [
       "(5000, 144)"
      ]
     },
     "execution_count": 5,
     "metadata": {},
     "output_type": "execute_result"
    }
   ],
   "source": [
    "hog_descriptors = []\n",
    "\n",
    "for img in digits:\n",
    "    hog_descriptors.append(hog.compute(img))\n",
    "    \n",
    "hog_descriptors = np.squeeze(hog_descriptors)\n",
    "hog_descriptors.shape"
   ]
  },
  {
   "cell_type": "markdown",
   "metadata": {},
   "source": [
    "## 6- Train/Test"
   ]
  },
  {
   "cell_type": "code",
   "execution_count": 6,
   "metadata": {},
   "outputs": [],
   "source": [
    "train_n=int(0.9*len(hog_descriptors))\n",
    "\n",
    "digits_train, digits_test = np.split(digits, [train_n])\n",
    "hog_descriptors_train, hog_descriptors_test = np.split(hog_descriptors, [train_n])\n",
    "\n",
    "labels_train, labels_test = np.split(labels, [train_n])"
   ]
  },
  {
   "cell_type": "markdown",
   "metadata": {},
   "source": [
    "## 7- Creating SVM Model"
   ]
  },
  {
   "cell_type": "code",
   "execution_count": 7,
   "metadata": {},
   "outputs": [],
   "source": [
    "C=12.5\n",
    "gamma=0.50625\n",
    "model = cv2.ml.SVM_create()\n",
    "\n",
    "model.setGamma(gamma)\n",
    "model.setC(C)\n",
    "model.setKernel(cv2.ml.SVM_RBF)\n",
    "model.setType(cv2.ml.SVM_C_SVC)"
   ]
  },
  {
   "cell_type": "markdown",
   "metadata": {},
   "source": [
    "## 8- Training Model"
   ]
  },
  {
   "cell_type": "code",
   "execution_count": 8,
   "metadata": {},
   "outputs": [
    {
     "data": {
      "text/plain": [
       "True"
      ]
     },
     "execution_count": 8,
     "metadata": {},
     "output_type": "execute_result"
    }
   ],
   "source": [
    "model.train(hog_descriptors_train, cv2.ml.ROW_SAMPLE, labels_train)"
   ]
  },
  {
   "cell_type": "markdown",
   "metadata": {},
   "source": [
    "## 9- Evaluation"
   ]
  },
  {
   "cell_type": "code",
   "execution_count": 9,
   "metadata": {},
   "outputs": [
    {
     "name": "stdout",
     "output_type": "stream",
     "text": [
      "Percentage Accuracy: 98.60 %\n"
     ]
    }
   ],
   "source": [
    "predictions = model.predict(hog_descriptors_test)[1].ravel()\n",
    "\n",
    "accuracy = (labels_test == predictions).mean()\n",
    "\n",
    "print('Percentage Accuracy: %.2f %%' % (accuracy*100))"
   ]
  }
 ],
 "metadata": {
  "kernelspec": {
   "display_name": "myvenv",
   "language": "python",
   "name": "python3"
  },
  "language_info": {
   "codemirror_mode": {
    "name": "ipython",
    "version": 3
   },
   "file_extension": ".py",
   "mimetype": "text/x-python",
   "name": "python",
   "nbconvert_exporter": "python",
   "pygments_lexer": "ipython3",
   "version": "3.12.1"
  }
 },
 "nbformat": 4,
 "nbformat_minor": 2
}
