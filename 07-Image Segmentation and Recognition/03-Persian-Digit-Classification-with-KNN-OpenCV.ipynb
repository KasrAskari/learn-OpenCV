{
 "cells": [
  {
   "cell_type": "markdown",
   "metadata": {},
   "source": [
    "## 1- Importig Libraries"
   ]
  },
  {
   "cell_type": "code",
   "execution_count": 8,
   "metadata": {},
   "outputs": [],
   "source": [
    "from dataset import load_hoda\n",
    "\n",
    "import cv2\n",
    "import numpy as np\n",
    "import matplotlib.pyplot as plt\n",
    "from cv2.ml import KNearest_create"
   ]
  },
  {
   "cell_type": "markdown",
   "metadata": {},
   "source": [
    "## 2- Loading Dataset"
   ]
  },
  {
   "cell_type": "code",
   "execution_count": 2,
   "metadata": {},
   "outputs": [],
   "source": [
    "X_train, y_train, X_test, y_test = load_hoda()"
   ]
  },
  {
   "cell_type": "code",
   "execution_count": 3,
   "metadata": {},
   "outputs": [
    {
     "data": {
      "text/plain": [
       "(1000, 25)"
      ]
     },
     "execution_count": 3,
     "metadata": {},
     "output_type": "execute_result"
    }
   ],
   "source": [
    "X_train.shape"
   ]
  },
  {
   "cell_type": "markdown",
   "metadata": {},
   "source": [
    "## 3- KNN OpenCV Classification"
   ]
  },
  {
   "cell_type": "code",
   "execution_count": 4,
   "metadata": {},
   "outputs": [
    {
     "name": "stdout",
     "output_type": "stream",
     "text": [
      "(1000, 1)\n"
     ]
    }
   ],
   "source": [
    "X_train = X_train.astype('float32')\n",
    "y_train = y_train.astype('int64').reshape(-1,1)\n",
    "\n",
    "print(y_train.shape)"
   ]
  },
  {
   "cell_type": "markdown",
   "metadata": {},
   "source": [
    "`cv2.ROW_SAMPLE` : each training sample is a row of samples \n",
    "\n",
    "`cv2.COL_SAMPLE` : each training sample occupies a column of samples"
   ]
  },
  {
   "cell_type": "code",
   "execution_count": 9,
   "metadata": {},
   "outputs": [
    {
     "data": {
      "text/plain": [
       "True"
      ]
     },
     "execution_count": 9,
     "metadata": {},
     "output_type": "execute_result"
    }
   ],
   "source": [
    "knn = KNearest_create()\n",
    "knn.train(X_train, cv2.ml.ROW_SAMPLE, y_train)"
   ]
  },
  {
   "cell_type": "markdown",
   "metadata": {},
   "source": [
    "## 4- Prediction of Train data"
   ]
  },
  {
   "cell_type": "code",
   "execution_count": 11,
   "metadata": {},
   "outputs": [],
   "source": [
    "# use k=3\n",
    "ret, result, neighbors, dist = knn.findNearest(X_test.astype('float32'), 3)"
   ]
  },
  {
   "cell_type": "code",
   "execution_count": 12,
   "metadata": {},
   "outputs": [
    {
     "name": "stdout",
     "output_type": "stream",
     "text": [
      "[7. 2. 3. 1. 5. 5. 4. 7. 3. 2. 0. 8. 8. 0. 3. 9. 3. 6. 7. 4. 0. 3. 6. 3.\n",
      " 9. 2. 7. 5. 2. 9. 7. 5. 5. 8. 9. 6. 5. 1. 4. 8. 8. 4. 2. 7. 1. 2. 7. 9.\n",
      " 0. 3. 7. 4. 7. 5. 2. 9. 8. 2. 9. 8. 8. 6. 6. 6. 7. 6. 2. 4. 1. 4. 4. 5.\n",
      " 9. 1. 8. 2. 0. 5. 6. 2. 4. 3. 2. 7. 7. 7. 7. 1. 8. 1. 7. 8. 7. 7. 8. 9.\n",
      " 3. 2. 3. 1. 0. 2. 9. 7. 3. 5. 5. 0. 0. 2. 6. 7. 9. 3. 9. 9. 8. 7. 9. 2.\n",
      " 5. 2. 5. 5. 9. 6. 9. 2. 0. 3. 7. 6. 5. 2. 9. 0. 4. 1. 8. 2. 2. 3. 0. 2.\n",
      " 9. 3. 8. 6. 7. 0. 9. 9. 0. 7. 6. 1. 4. 7. 9. 3. 7. 0. 7. 1. 9. 4. 7. 3.\n",
      " 4. 1. 5. 6. 7. 9. 1. 3. 5. 4. 5. 7. 4. 1. 3. 3. 1. 2. 5. 3. 8. 9. 6. 7.\n",
      " 7. 2. 3. 0. 1. 4. 9. 5.]\n"
     ]
    }
   ],
   "source": [
    "print(result.ravel())"
   ]
  },
  {
   "cell_type": "markdown",
   "metadata": {},
   "source": [
    "## 5- Evaluation"
   ]
  },
  {
   "cell_type": "code",
   "execution_count": 13,
   "metadata": {},
   "outputs": [
    {
     "data": {
      "text/plain": [
       "0.96"
      ]
     },
     "execution_count": 13,
     "metadata": {},
     "output_type": "execute_result"
    }
   ],
   "source": [
    "matches = np.equal(result.ravel(), y_test)\n",
    "np.mean(matches)"
   ]
  }
 ],
 "metadata": {
  "kernelspec": {
   "display_name": "myvenv",
   "language": "python",
   "name": "python3"
  },
  "language_info": {
   "codemirror_mode": {
    "name": "ipython",
    "version": 3
   },
   "file_extension": ".py",
   "mimetype": "text/x-python",
   "name": "python",
   "nbconvert_exporter": "python",
   "pygments_lexer": "ipython3",
   "version": "3.12.1"
  }
 },
 "nbformat": 4,
 "nbformat_minor": 2
}
